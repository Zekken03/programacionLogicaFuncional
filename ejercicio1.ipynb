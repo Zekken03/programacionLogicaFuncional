{
 "cells": [
  {
   "cell_type": "markdown",
   "id": "9b50a336",
   "metadata": {},
   "source": [
    "#Ejercicio 1\n",
    "\n",
    "Ejercicio 1 de Evaluación de Expresiones en Python\n",
    "\n",
    "$ \\frac {\\pi^2} {6} = \\sum_{n=1}^{\\infty} \\frac{1}{n^2} $"
   ]
  },
  {
   "cell_type": "code",
   "execution_count": 2,
   "id": "a514d0b7",
   "metadata": {},
   "outputs": [
    {
     "name": "stdout",
     "output_type": "stream",
     "text": [
      "Valor teórico: 1.6449340668482264, Aproximacion: 1.5397677311665408\n",
      "Error: 0.10516633568168565\n"
     ]
    }
   ],
   "source": [
    "import math\n",
    "res = math.pi **2 / 6\n",
    "res2 = 0\n",
    "for n in range(1, 10):\n",
    "    res2 += 1 / (n**2)\n",
    "print(f\"Valor teórico: {res}, Aproximacion: {res2}\")\n",
    "error = abs(res - res2)\n",
    "print(f\"Error: {error}\")"
   ]
  },
  {
   "cell_type": "markdown",
   "id": "886352e5",
   "metadata": {},
   "source": [
    "### Expresión 1 \n",
    "Primero se ejecuta la potencia 2**2 = 4\n",
    "\n",
    "después se multiplica por 4\n",
    "\n",
    "y se suma 3\n"
   ]
  },
  {
   "cell_type": "code",
   "execution_count": 1,
   "id": "d57132c9",
   "metadata": {},
   "outputs": [
    {
     "name": "stdout",
     "output_type": "stream",
     "text": [
      "19\n"
     ]
    }
   ],
   "source": [
    "resultado = 3+4*2**2\n",
    "print(resultado) # ¿Cuál crees que es el resultado?"
   ]
  },
  {
   "cell_type": "markdown",
   "id": "b6e124b3",
   "metadata": {},
   "source": [
    "Expresión 1\n",
    "\n",
    "Primero se hace la suma de 3 + 2\n",
    "\n",
    "luego se multiplica por 4"
   ]
  },
  {
   "cell_type": "code",
   "execution_count": 1,
   "id": "05b67172",
   "metadata": {},
   "outputs": [
    {
     "name": "stdout",
     "output_type": "stream",
     "text": [
      "20\n"
     ]
    }
   ],
   "source": [
    "resultado = (3 + 2)  * 4\n",
    "print(resultado) # ¿Y ahora?\n"
   ]
  },
  {
   "cell_type": "markdown",
   "id": "f43cd1c0",
   "metadata": {},
   "source": [
    "Expresión 2\n",
    "\n",
    "Primero se eleva 3 al cuadrado\n",
    "\n",
    "luego se multiplica por 2 "
   ]
  },
  {
   "cell_type": "code",
   "execution_count": 2,
   "id": "a800c4fb",
   "metadata": {},
   "outputs": [
    {
     "name": "stdout",
     "output_type": "stream",
     "text": [
      "18\n"
     ]
    }
   ],
   "source": [
    "resultado = 2 * 3 ** 2\n",
    "print(resultado) # ¿Y ahora?"
   ]
  },
  {
   "cell_type": "markdown",
   "id": "16623e5b",
   "metadata": {},
   "source": [
    "Expresión 3\n",
    "\n",
    "Se divide 10 entre 3 da entero 3\n",
    "\n",
    "luego se suma 2\n"
   ]
  },
  {
   "cell_type": "code",
   "execution_count": 3,
   "id": "c7807337",
   "metadata": {},
   "outputs": [
    {
     "name": "stdout",
     "output_type": "stream",
     "text": [
      "5\n"
     ]
    }
   ],
   "source": [
    "resultado = 10// 3  + 2\n",
    "print(resultado) # ¿Y ahora?"
   ]
  },
  {
   "cell_type": "markdown",
   "id": "8c5bc843",
   "metadata": {},
   "source": [
    "Expresión 4\n",
    "\n",
    "Se calcula el residuo de la división de 17 entre 5\n",
    "\n",
    "y luego se multiplica por 2"
   ]
  },
  {
   "cell_type": "code",
   "execution_count": 4,
   "id": "c5a017fb",
   "metadata": {},
   "outputs": [
    {
     "name": "stdout",
     "output_type": "stream",
     "text": [
      "4\n"
     ]
    }
   ],
   "source": [
    "resultado = 17%5 * 2\n",
    "print(resultado) # ¿Y ahora?"
   ]
  },
  {
   "cell_type": "markdown",
   "id": "643827e8",
   "metadata": {},
   "source": [
    "Expresión 5\n",
    "\n",
    "Se eleva 2 al cuadrado\n",
    "\n",
    "y luego se deja el signo negativo"
   ]
  },
  {
   "cell_type": "code",
   "execution_count": 5,
   "id": "7b409d0a",
   "metadata": {},
   "outputs": [
    {
     "name": "stdout",
     "output_type": "stream",
     "text": [
      "-4\n"
     ]
    }
   ],
   "source": [
    "resultado = -2 ** 2\n",
    "print(resultado) # ¿Y ahora?"
   ]
  },
  {
   "cell_type": "markdown",
   "id": "56f0570e",
   "metadata": {},
   "source": [
    "Expresión 6\n",
    "\n",
    "Primero se eleva dos al cuadrado\n",
    "\n",
    "luego se multiplica 4 por 4 dando 16\n",
    "\n",
    "a ese resultado se divide entre 3\n",
    "\n",
    "por último, se le suma 3\n",
    "\n"
   ]
  },
  {
   "cell_type": "code",
   "execution_count": 7,
   "id": "8b74cb84",
   "metadata": {},
   "outputs": [
    {
     "name": "stdout",
     "output_type": "stream",
     "text": [
      "8\n"
     ]
    }
   ],
   "source": [
    "resultado = 3 + 4 * 2 ** 2 // 3\n",
    "print(resultado) # ¿Y ahora?"
   ]
  },
  {
   "cell_type": "markdown",
   "id": "3088bb42",
   "metadata": {},
   "source": [
    "Expresión 7\n",
    "\n",
    "Primero se compara que 2 es menor que 4\n",
    "\n",
    "luego que 4 es menor que 5\n",
    "\n",
    "Ambas afirmaciones son correctas dando true"
   ]
  },
  {
   "cell_type": "code",
   "execution_count": 8,
   "id": "32570a24",
   "metadata": {},
   "outputs": [
    {
     "name": "stdout",
     "output_type": "stream",
     "text": [
      "True\n"
     ]
    }
   ],
   "source": [
    "resultado = 3 < 4 < 5\n",
    "print(resultado) # ¿Y ahora?"
   ]
  },
  {
   "cell_type": "markdown",
   "id": "cb4e90c7",
   "metadata": {},
   "source": [
    "Expresión 8\n",
    "\n",
    "Primero se ve que 3 es mayor que 2 indicando que es verdadero\n",
    "\n",
    "luego que 5 es menor que 10 dando verdadero\n",
    "\n",
    "Ambos true se les da la conjunción lógica de and\n",
    "\n",
    "y al resultado la conjunción de or junto al False"
   ]
  },
  {
   "cell_type": "code",
   "execution_count": 9,
   "id": "c9378a26",
   "metadata": {},
   "outputs": [
    {
     "name": "stdout",
     "output_type": "stream",
     "text": [
      "True\n"
     ]
    }
   ],
   "source": [
    "resultado = (3 > 2) and (5 < 10) or False\n",
    "print(resultado) # ¿Y ahora?"
   ]
  },
  {
   "cell_type": "markdown",
   "id": "b4a45efa",
   "metadata": {},
   "source": [
    "Expresión 9\n",
    "\n",
    "Primero se saca el and bit a bit de 5 a 3 dando 4\n",
    "\n",
    "luego se le suma 1"
   ]
  },
  {
   "cell_type": "code",
   "execution_count": 11,
   "id": "e1dab7c5",
   "metadata": {},
   "outputs": [
    {
     "name": "stdout",
     "output_type": "stream",
     "text": [
      "4\n"
     ]
    }
   ],
   "source": [
    "resultado = 5 & 3 + 1\n",
    "print(resultado) # ¿Y ahora?"
   ]
  },
  {
   "cell_type": "markdown",
   "id": "c129fba7",
   "metadata": {},
   "source": [
    "Expresión 10\n",
    "\n",
    "Primero se suma 2 y 3 y se saca el residuo de la división de 5 y 3\n",
    "\n",
    "luego se eleva 4 al 2\n",
    "\n",
    "la suma de 2 + 3 se multiplica por 16\n",
    "\n",
    "al resultado se le divide entre 2\n",
    "\n",
    "a lo que salió se le pone and junto a true ( ya que not false es true)\n",
    "\n",
    "al último número que es 40 se queda con el true y ambos al ser true dan true\n"
   ]
  },
  {
   "cell_type": "code",
   "execution_count": 12,
   "id": "eaadf97a",
   "metadata": {},
   "outputs": [
    {
     "name": "stdout",
     "output_type": "stream",
     "text": [
      "True\n"
     ]
    }
   ],
   "source": [
    "resultado = (2 + 3) * 4 ** 2 // (5 % 3) and not False\n",
    "print(resultado) # ¿Y ahora?"
   ]
  },
  {
   "cell_type": "markdown",
   "id": "31459664",
   "metadata": {},
   "source": [
    "Expresión 11\n",
    "\n",
    "Primero se calcula and bit por bit 65 entre 66 y XOR entre 65 y 66\n",
    "\n",
    "al residuo se le compara si es mayor que 70 dando false\n",
    "\n",
    "el XOR bit por bit da 3 que al compararlo si es igual a 0 da false\n",
    "\n",
    "por último quedaría que false and true (not false) dando como resultado false\n",
    "\n",
    "\n"
   ]
  },
  {
   "cell_type": "code",
   "execution_count": null,
   "id": "dd4a6d92",
   "metadata": {},
   "outputs": [
    {
     "name": "stdout",
     "output_type": "stream",
     "text": [
      "False\n"
     ]
    }
   ],
   "source": [
    "resultado = ((65 & 66)> 70) and not (65 ^ 66) == 0\n",
    "print(resultado)"
   ]
  },
  {
   "cell_type": "markdown",
   "id": "d25b2de7",
   "metadata": {},
   "source": [
    "##Expresiones en Java"
   ]
  },
  {
   "cell_type": "markdown",
   "id": "1e1b6193",
   "metadata": {},
   "source": [
    "Expresión 1\n",
    "\n",
    "Se le da el valor de 10 a x\n",
    "\n",
    "Luego se imprime, dando como resultado 10\n",
    "\n",
    "Después de la impresión, x aumenta en 1 quedando en 11"
   ]
  },
  {
   "cell_type": "markdown",
   "id": "ca3e5a96",
   "metadata": {},
   "source": [
    "Expresión 2\n",
    "\n",
    "Se da el valor inicial de 10 a x\n",
    "\n",
    "Al imprimir, como el incremento está delante, primero se aumenta a 11 y luego se imprime ese valor\n",
    "\n",
    "El resultado es 11 y x queda en 11"
   ]
  },
  {
   "cell_type": "markdown",
   "id": "38255116",
   "metadata": {},
   "source": [
    "Expresión 3\n",
    "\n",
    "Primero vemos b++ * -3. Como el incremento viene después, se usa el valor actual de b, se multiplica por -3, y da -30. Después b pasa a valer 11\n",
    "\n",
    "Tenemos -3 % x++. Se toma el valor de x, y se calcula -3 % 10, lo cual da -3. Después x pasa a valer 11\n",
    "\n",
    "La comparación queda: -30 == -3, lo que es false"
   ]
  },
  {
   "cell_type": "markdown",
   "id": "277430bb",
   "metadata": {},
   "source": [
    "Expresión 4\n",
    "\n",
    "Primero se hace el incremento de b, pasando de 10 a 11\n",
    "\n",
    "Se saca el residuo de la división de 30 entre 7, que da 2\n",
    "\n",
    "2 se multiplica por 2\n",
    "\n",
    "Se suma con el ++b (11), dando un total de 15\n",
    "\n",
    "Ahora en el numerador tenemos 30 - 10 = 20\n",
    "\n",
    "Se divide 20 entre 15, lo que da 1 en división entera"
   ]
  },
  {
   "cell_type": "markdown",
   "id": "483cbd9a",
   "metadata": {},
   "source": [
    "Ejercicio 5\n",
    "\n",
    "El x++ usa primero el 10, y después x se vuelve 11\n",
    "\n",
    "-50 * 10 = -500\n",
    "\n",
    "Luego -500 * 80 = -40000\n",
    "\n",
    "Después se calcula el residuo -40000 % 10 = 0\n",
    "\n",
    "Ese 0 se divide entre 4, que da 0\n",
    "\n",
    "Multiplicado por 8 sigue siendo 0\n",
    "\n",
    "Al final x recibe el valor 0, y además ya había quedado incrementado a 11"
   ]
  },
  {
   "cell_type": "markdown",
   "id": "a4bf627b",
   "metadata": {},
   "source": [
    "Ejercicio 6\n",
    " \n",
    "Se evalúa x++, que primero usa el valor actual (10) y luego lo incrementa a 11\n",
    "\n",
    "Primero 5/4 = 1, luego 1 % -3 = 1\n",
    "\n",
    "Se reemplaza 10 - 8 + 3 - 1 + 8 = 12\n",
    "\n",
    "Al final b *= 12, por lo que b pasa de 10 a 120"
   ]
  },
  {
   "cell_type": "markdown",
   "id": "3c38e760",
   "metadata": {},
   "source": [
    "Expresión 7\n",
    "\n",
    "Se evalúa ++x, que incrementa primero x a 11\n",
    "\n",
    "Después 50/30 = 1 en división entera\n",
    "\n",
    "Queda 1 * 11 + 80 = 91\n",
    "\n",
    "Ese valor se asigna a b, y luego también a x\n",
    "\n",
    "Así que queda b=91 y x=91"
   ]
  },
  {
   "cell_type": "markdown",
   "id": "7d87eb73",
   "metadata": {},
   "source": [
    "Expresión 8\n",
    "\n",
    "Primero --x lo convierte en 9\n",
    "\n",
    "Después b %= 9, que es 10 % 9 = 1\n",
    "\n",
    "Ahora x se vuelve 11 por el ++x inicial, y luego se hace x /= b, que es 11 / 1 = 11\n",
    "\n",
    "El lado izquierdo es 11 % 20 = 11\n",
    "\n",
    "El lado derecho es -(11) = -11\n",
    "\n",
    "La comparación queda 11 == -11, que es false"
   ]
  },
  {
   "cell_type": "markdown",
   "id": "3771c2b4",
   "metadata": {},
   "source": [
    "Ejercicio 5\n",
    "\n",
    "El x++ usa primero el 10, y después x se vuelve 11\n",
    "\n",
    "-50 * 10 = -500\n",
    "\n",
    "Luego -500 * 80 = -40000\n",
    "\n",
    "Después se calcula el residuo -40000 % 10 = 0\n",
    "\n",
    "Ese 0 se divide entre 4, que da 0\n",
    "\n",
    "Multiplicado por 8 sigue siendo 0\n",
    "\n",
    "Al final x recibe el valor 0, y además ya había quedado incrementado a 11"
   ]
  },
  {
   "cell_type": "markdown",
   "id": "d2ff59f6",
   "metadata": {},
   "source": [
    "Expresión 9 \n",
    "\n",
    "Primero b++ = 10, luego b=11\n",
    "\n",
    "Después b-- = 11, pero luego vuelve a 10\n",
    "\n",
    "La multiplicación queda 10 * 11 = 110\n",
    "\n",
    "Se divide entre 3: 110 / 3 = 36 (entero)\n",
    "\n",
    "Luego ++b = 11\n",
    "\n",
    "Ahora (36 % (11 * (10 + 1))) = 36 % 121 = 36\n",
    "\n",
    "Dando 36"
   ]
  },
  {
   "cell_type": "markdown",
   "id": "28269fb5",
   "metadata": {},
   "source": [
    "Expresión 10\n",
    "\n",
    "Se evalúa primero -10 * 0, que da \n",
    "\n",
    "Al multiplicarse por 0, todo el resultado se vuelve 0"
   ]
  },
  {
   "cell_type": "markdown",
   "id": "79509a51",
   "metadata": {},
   "source": [
    "Expresión 11\n",
    "\n",
    "Le damos a \"a\" el valor de 5\n",
    "\n",
    "Primero \n",
    "\n",
    "b++ = 10 (y luego b=11)\n",
    "\n",
    "b-- = 11 (y luego b=10)\n",
    "\n",
    "Tenemos que --b = 9\n",
    "\n",
    "x++ = 10 (y luego x=11)\n",
    "\n",
    "x-- = 11 (y luego x=10)\n",
    "\n",
    "Se suma 10 + 11 + 9 + 10 + 11 = 51\n",
    "\n",
    "El lado izquierdo es a * b = 5 * 9 = 45\n",
    "\n",
    "La comparación 45 == 51 es false"
   ]
  }
 ],
 "metadata": {
  "kernelspec": {
   "display_name": "Python 3",
   "language": "python",
   "name": "python3"
  },
  "language_info": {
   "codemirror_mode": {
    "name": "ipython",
    "version": 3
   },
   "file_extension": ".py",
   "mimetype": "text/x-python",
   "name": "python",
   "nbconvert_exporter": "python",
   "pygments_lexer": "ipython3",
   "version": "3.13.6"
  }
 },
 "nbformat": 4,
 "nbformat_minor": 5
}
