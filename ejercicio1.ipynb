{
 "cells": [
  {
   "cell_type": "markdown",
   "id": "9b50a336",
   "metadata": {},
   "source": [
    "#Ejercicio 1\n",
    "\n",
    "Ejercicio 1 de Evaluación de Expresiones en Python\n",
    "\n",
    "$ \\frac {\\pi^2} {6} = \\sum_{n=1}^{\\infty} \\frac{1}{n^2} $"
   ]
  },
  {
   "cell_type": "code",
   "execution_count": 2,
   "id": "a514d0b7",
   "metadata": {},
   "outputs": [
    {
     "name": "stdout",
     "output_type": "stream",
     "text": [
      "Valor teórico: 1.6449340668482264, Aproximacion: 1.5397677311665408\n",
      "Error: 0.10516633568168565\n"
     ]
    }
   ],
   "source": [
    "import math\n",
    "res = math.pi **2 / 6\n",
    "res2 = 0\n",
    "for n in range(1, 10):\n",
    "    res2 += 1 / (n**2)\n",
    "print(f\"Valor teórico: {res}, Aproximacion: {res2}\")\n",
    "error = abs(res - res2)\n",
    "print(f\"Error: {error}\")"
   ]
  },
  {
   "cell_type": "markdown",
   "id": "886352e5",
   "metadata": {},
   "source": [
    "### Expresión 1 \n",
    "Primero se ejecuta la potencia 2**2 = 4\n",
    "\n",
    "después se multiplica por 4\n",
    "\n",
    "y se suma 3\n"
   ]
  },
  {
   "cell_type": "code",
   "execution_count": 1,
   "id": "d57132c9",
   "metadata": {},
   "outputs": [
    {
     "name": "stdout",
     "output_type": "stream",
     "text": [
      "19\n"
     ]
    }
   ],
   "source": [
    "resultado = 3+4*2**2\n",
    "print(resultado) # ¿Cuál crees que es el resultado?"
   ]
  },
  {
   "cell_type": "markdown",
   "id": "b6e124b3",
   "metadata": {},
   "source": [
    "Expresión 1\n",
    "\n",
    "Primero se hace la suma de 3 + 2\n",
    "\n",
    "luego se multiplica por 4"
   ]
  },
  {
   "cell_type": "code",
   "execution_count": 1,
   "id": "05b67172",
   "metadata": {},
   "outputs": [
    {
     "name": "stdout",
     "output_type": "stream",
     "text": [
      "20\n"
     ]
    }
   ],
   "source": [
    "resultado = (3 + 2)  * 4\n",
    "print(resultado) # ¿Y ahora?\n"
   ]
  },
  {
   "cell_type": "markdown",
   "id": "f43cd1c0",
   "metadata": {},
   "source": [
    "Expresión 2\n",
    "\n",
    "Primero se eleva 3 al cuadrado\n",
    "\n",
    "luego se multiplica por 2 "
   ]
  },
  {
   "cell_type": "code",
   "execution_count": 2,
   "id": "a800c4fb",
   "metadata": {},
   "outputs": [
    {
     "name": "stdout",
     "output_type": "stream",
     "text": [
      "18\n"
     ]
    }
   ],
   "source": [
    "resultado = 2 * 3 ** 2\n",
    "print(resultado) # ¿Y ahora?"
   ]
  },
  {
   "cell_type": "markdown",
   "id": "16623e5b",
   "metadata": {},
   "source": [
    "Expresión 3\n",
    "\n",
    "Se divide 10 entre 3 da entero 3\n",
    "\n",
    "luego se suma 2\n"
   ]
  },
  {
   "cell_type": "code",
   "execution_count": 3,
   "id": "c7807337",
   "metadata": {},
   "outputs": [
    {
     "name": "stdout",
     "output_type": "stream",
     "text": [
      "5\n"
     ]
    }
   ],
   "source": [
    "resultado = 10// 3  + 2\n",
    "print(resultado) # ¿Y ahora?"
   ]
  },
  {
   "cell_type": "markdown",
   "id": "8c5bc843",
   "metadata": {},
   "source": [
    "Expresión 4\n",
    "\n",
    "Se calcula el residuo de la división de 17 entre 5\n",
    "\n",
    "y luego se multiplica por 2"
   ]
  },
  {
   "cell_type": "code",
   "execution_count": 4,
   "id": "c5a017fb",
   "metadata": {},
   "outputs": [
    {
     "name": "stdout",
     "output_type": "stream",
     "text": [
      "4\n"
     ]
    }
   ],
   "source": [
    "resultado = 17%5 * 2\n",
    "print(resultado) # ¿Y ahora?"
   ]
  },
  {
   "cell_type": "markdown",
   "id": "643827e8",
   "metadata": {},
   "source": [
    "Expresión 5\n",
    "\n",
    "Se eleva 2 al cuadrado\n",
    "\n",
    "y luego se deja el signo negativo"
   ]
  },
  {
   "cell_type": "code",
   "execution_count": 5,
   "id": "7b409d0a",
   "metadata": {},
   "outputs": [
    {
     "name": "stdout",
     "output_type": "stream",
     "text": [
      "-4\n"
     ]
    }
   ],
   "source": [
    "resultado = -2 ** 2\n",
    "print(resultado) # ¿Y ahora?"
   ]
  },
  {
   "cell_type": "markdown",
   "id": "56f0570e",
   "metadata": {},
   "source": [
    "Expresión 6\n",
    "\n",
    "Primero se eleva dos al cuadrado\n",
    "\n",
    "luego se multiplica 4 por 4 dando 16\n",
    "\n",
    "a ese resultado se divide entre 3\n",
    "\n",
    "por último, se le suma 3\n",
    "\n"
   ]
  },
  {
   "cell_type": "code",
   "execution_count": 7,
   "id": "8b74cb84",
   "metadata": {},
   "outputs": [
    {
     "name": "stdout",
     "output_type": "stream",
     "text": [
      "8\n"
     ]
    }
   ],
   "source": [
    "resultado = 3 + 4 * 2 ** 2 // 3\n",
    "print(resultado) # ¿Y ahora?"
   ]
  },
  {
   "cell_type": "markdown",
   "id": "3088bb42",
   "metadata": {},
   "source": [
    "Expresión 7\n",
    "\n",
    "Primero se compara que 2 es menor que 4\n",
    "\n",
    "luego que 4 es menor que 5\n",
    "\n",
    "Ambas afirmaciones son correctas dando true"
   ]
  },
  {
   "cell_type": "code",
   "execution_count": 8,
   "id": "32570a24",
   "metadata": {},
   "outputs": [
    {
     "name": "stdout",
     "output_type": "stream",
     "text": [
      "True\n"
     ]
    }
   ],
   "source": [
    "resultado = 3 < 4 < 5\n",
    "print(resultado) # ¿Y ahora?"
   ]
  },
  {
   "cell_type": "markdown",
   "id": "cb4e90c7",
   "metadata": {},
   "source": [
    "Expresión 8\n",
    "\n",
    "Primero se ve que 3 es mayor que 2 indicando que es verdadero\n",
    "\n",
    "luego que 5 es menor que 10 dando verdadero\n",
    "\n",
    "Ambos true se les da la conjunción lógica de and\n",
    "\n",
    "y al resultado la conjunción de or junto al False"
   ]
  },
  {
   "cell_type": "code",
   "execution_count": 9,
   "id": "c9378a26",
   "metadata": {},
   "outputs": [
    {
     "name": "stdout",
     "output_type": "stream",
     "text": [
      "True\n"
     ]
    }
   ],
   "source": [
    "resultado = (3 > 2) and (5 < 10) or False\n",
    "print(resultado) # ¿Y ahora?"
   ]
  },
  {
   "cell_type": "markdown",
   "id": "b4a45efa",
   "metadata": {},
   "source": [
    "Expresión 9\n",
    "\n",
    "Primero se saca el and bit a bit de 5 a 3 dando 4\n",
    "\n",
    "luego se le suma 1"
   ]
  },
  {
   "cell_type": "code",
   "execution_count": 11,
   "id": "e1dab7c5",
   "metadata": {},
   "outputs": [
    {
     "name": "stdout",
     "output_type": "stream",
     "text": [
      "4\n"
     ]
    }
   ],
   "source": [
    "resultado = 5 & 3 + 1\n",
    "print(resultado) # ¿Y ahora?"
   ]
  },
  {
   "cell_type": "markdown",
   "id": "c129fba7",
   "metadata": {},
   "source": [
    "Expresión 10\n",
    "\n",
    "Primero se suma 2 y 3 y se saca el residuo de la división de 5 y 3\n",
    "\n",
    "luego se eleva 4 al 2\n",
    "\n",
    "la suma de 2 + 3 se multiplica por 16\n",
    "\n",
    "al resultado se le divide entre 2\n",
    "\n",
    "a lo que salió se le pone and junto a true ( ya que not false es true)\n",
    "\n",
    "al último número que es 40 se queda con el true y ambos al ser true dan true\n"
   ]
  },
  {
   "cell_type": "code",
   "execution_count": 12,
   "id": "eaadf97a",
   "metadata": {},
   "outputs": [
    {
     "name": "stdout",
     "output_type": "stream",
     "text": [
      "True\n"
     ]
    }
   ],
   "source": [
    "resultado = (2 + 3) * 4 ** 2 // (5 % 3) and not False\n",
    "print(resultado) # ¿Y ahora?"
   ]
  },
  {
   "cell_type": "markdown",
   "id": "31459664",
   "metadata": {},
   "source": [
    "Expresión 11\n",
    "\n",
    "Primero se calcula and bit por bit 65 entre 66 y XOR entre 65 y 66\n",
    "\n",
    "al residuo se le compara si es mayor que 70 dando false\n",
    "\n",
    "el XOR bit por bit da 3 que al compararlo si es igual a 0 da false\n",
    "\n",
    "por último quedaría que false and true (not false) dando como resultado false\n",
    "\n",
    "\n"
   ]
  },
  {
   "cell_type": "code",
   "execution_count": null,
   "id": "dd4a6d92",
   "metadata": {},
   "outputs": [
    {
     "name": "stdout",
     "output_type": "stream",
     "text": [
      "False\n"
     ]
    }
   ],
   "source": [
    "resultado = ((65 & 66)> 70) and not (65 ^ 66) == 0\n",
    "print(resultado)"
   ]
  },
  {
   "cell_type": "markdown",
   "id": "d25b2de7",
   "metadata": {},
   "source": [
    "##Expresiones en Java"
   ]
  },
  {
   "cell_type": "markdown",
   "id": "1e1b6193",
   "metadata": {},
   "source": [
    "Expresión 1\n",
    "\n",
    "Se le da el valor de 10 a x\n",
    "\n",
    "luego se imprime dando 10"
   ]
  },
  {
   "cell_type": "markdown",
   "id": "ca3e5a96",
   "metadata": {},
   "source": [
    "Expresión 2\n",
    "\n",
    "Se da el valor inicial de 10\n",
    "\n",
    "al imprimir al tener el más delante se realiza la suma dando 11"
   ]
  },
  {
   "cell_type": "markdown",
   "id": "38255116",
   "metadata": {},
   "source": [
    "Expresión 3\n",
    "\n",
    "Con X y B con valor de 10\n",
    "\n",
    "primero 10 por el aumento queda igual y se multiplica por -3 el cual se mantiene asi, esto nos da -30\n",
    "\n",
    "del otro lado hacemos el aumento dando 10 y dividimos -3 entre 10 dandonos como residuo 7\n",
    "\n",
    "ambos son diferentes por lo que en la compración da false"
   ]
  },
  {
   "cell_type": "markdown",
   "id": "277430bb",
   "metadata": {},
   "source": [
    "Expresión 4\n",
    "\n",
    "Primero se le hace el incremento a b \n",
    "\n",
    "se saca el residuo de la división entre 30 y 7, \n",
    "\n",
    "seguido el resultado se multiplica por 2\n",
    "\n",
    "Eliminamos la asignación compuesta\n",
    "\n",
    "Realizamos la resta de 30 y 10\n",
    "\n",
    "A este resultado lo dividimos entre el anterior y el residuo nos da 24"
   ]
  },
  {
   "cell_type": "markdown",
   "id": "483cbd9a",
   "metadata": {},
   "source": [
    "Ejercicio 5\n",
    "\n",
    "Eliminamos el igual antes del 8\n",
    "\n",
    "se hace el incremento de 10 y se mantiene el menos en el 50\n",
    "\n",
    "Multiplicamos -50 * 10\n",
    "\n",
    "luego por 80\n",
    "\n",
    "sacamos el residuo de la divisiión entre el resultado y 10, que es valor de b\n",
    "\n",
    "a este mismo lo dividimos entre 4 y por último se multiplica por 8 da 0"
   ]
  }
 ],
 "metadata": {
  "kernelspec": {
   "display_name": "Python 3",
   "language": "python",
   "name": "python3"
  },
  "language_info": {
   "codemirror_mode": {
    "name": "ipython",
    "version": 3
   },
   "file_extension": ".py",
   "mimetype": "text/x-python",
   "name": "python",
   "nbconvert_exporter": "python",
   "pygments_lexer": "ipython3",
   "version": "3.13.6"
  }
 },
 "nbformat": 4,
 "nbformat_minor": 5
}
